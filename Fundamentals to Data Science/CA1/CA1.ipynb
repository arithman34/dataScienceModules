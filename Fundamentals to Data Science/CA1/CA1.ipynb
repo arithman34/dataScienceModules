{
 "cells": [
  {
   "cell_type": "markdown",
   "metadata": {
    "deletable": false,
    "editable": false,
    "nbgrader": {
     "cell_type": "markdown",
     "checksum": "a46df7d94f5f03a9da85ead887943ae1",
     "grade": false,
     "grade_id": "cell-6b662f85934d7a93",
     "locked": true,
     "schema_version": 3,
     "solution": false,
     "task": false
    }
   },
   "source": [
    "## ECMM444 Fundamentals of Data Science\n",
    "## Course Assessment 1\n",
    "\n",
    "\n",
    "This course assessment (CA1) represents 40% of the overall module assessment.\n",
    "\n",
    "**Submission deadline:** 15 November 2023, 12noon\n",
    "\n",
    "**Aim:** Demonstrate competence in programming with the `pandas` and `numpy` libraries.\n",
    "\n",
    "This is an **individual exercise** and your attention is drawn to the University guidelines on collaboration and plagiarism, which are available from the university website.\n",
    "\n",
    "\n",
    "**Notes on how to use the notebook:**\n",
    "\n",
    "1. do not change the name of this notebook, i.e. the notebook file has to be: `CA1.ipynb`.\n",
    "2. do not add your name or student code in the notebook or in the file name (it must be an anonymous submission).\n",
    "3. do not remove or delete or add any cell in this notebook: you should work on a separate, private notebook, and only when you are finished debugging copy the function implementations into the cells of this notebook. Make sure to copy **only** the function implementation and nothing else.\n",
    "4. remove the `raise NotImplementedError()` under the `# YOUR CODE HERE` and replace it with **your code**: note that if you leave this command in the cell you will fail the associated test.\n",
    "\n",
    "**Submission:**\n",
    "\n",
    "- to access this notebook you have downloaded the archive ecmm444_ca1.zip, and unziped it to a folder ecmm444_ca1.\n",
    "- the folder ecmm444_ca1 contains some images (.png), a notebook (.ipynb) and some other files for the datasets.\n",
    "- to submit your completed Jupyter notebook, save it in the folder ecmm444_ca1 without changing the file name, i.e. the notebook has to have the file name CA1.ipynb.\n",
    "- create a .zip archive (not any other compression format, only .zip) of the folder ecmm444_ca1 with your updated notebook.\n",
    "- submit a single file, the zipped archive, using the ELE submission system.\n",
    "\n",
    "\n",
    "**Evaluation criteria:**\n",
    "\n",
    "Each question asks for one or more functions to be implemented. \n",
    "\n",
    "- Each function is awarded a number of marks. \n",
    "- Hidden unit tests will be used to evaluate if desired properties of the required function are met. \n",
    "- If you make a typo error (e.g. mispelling a variable) this will likely causes a syntax error, and the function will fail the hidden unit tests.\n",
    "- The coding style (including clarity, conciseness, appropiate use of commands and data structures, efficiency, good programming practices) will also be kept into consideration to award full marks.  \n",
    "- Note that functions may be tested in the unit tests on some *randomly* generated input.\n",
    "- Notebooks not conforming to the required format (see notes on how to use the notebook) will be penalised.\n",
    "\n",
    "**Notes:**\n",
    "\n",
    "Students are expected to do some autonomous readings and research to familiarise themselves with the topics of the exercises.\n",
    "\n",
    "Students are not allowed to import additional external libraries unless explicitly stated in the question. \n",
    "\n",
    "Do not assume that the implementations provided in the Workshops exercises do not contain mistakes. You should write and are ultimately responsible for the code that you submit in this assessment.\n",
    "\n",
    "Questions are not strict software specifications. Students are expected to use their knowledge of the subject to interpret correctly the meaning of questions."
   ]
  },
  {
   "cell_type": "code",
   "execution_count": 1,
   "metadata": {
    "deletable": false,
    "editable": false,
    "nbgrader": {
     "cell_type": "code",
     "checksum": "3c670fa716729d399f01532e9d5c19c9",
     "grade": false,
     "grade_id": "cell-78a10a2e7ccdb3a4",
     "locked": true,
     "schema_version": 3,
     "solution": false,
     "task": false
    }
   },
   "outputs": [],
   "source": [
    "%matplotlib inline\n",
    "import matplotlib.pyplot as plt\n",
    "import numpy as np\n",
    "import pandas as pd"
   ]
  },
  {
   "cell_type": "markdown",
   "metadata": {
    "deletable": false,
    "editable": false,
    "nbgrader": {
     "cell_type": "markdown",
     "checksum": "ce19dec6fe1380f0aa1499cd57724d36",
     "grade": false,
     "grade_id": "cell-8ea579ea1f2f245d",
     "locked": true,
     "schema_version": 3,
     "solution": false,
     "task": false
    }
   },
   "source": [
    "# Part 1\n",
    "\n",
    "**Aim:** Show competence in using the  `pandas` and `numpy` libraries for processing and analysing a real data set."
   ]
  },
  {
   "cell_type": "markdown",
   "metadata": {
    "deletable": false,
    "editable": false,
    "nbgrader": {
     "cell_type": "markdown",
     "checksum": "198d09ad5a2ea23d8d24b9e2781fb468",
     "grade": false,
     "grade_id": "cell-4b408b269a3bb9b7",
     "locked": true,
     "schema_version": 3,
     "solution": false,
     "task": false
    }
   },
   "source": [
    "## Question 1.1  [marks 4]\n",
    "\n",
    "Create a function `load_data()` to load data from the csv file `22112014_3DM_GX3_35.csv`. The file contains GPS measurements, including latitude (LLH Lat), longitude (LLH Long), and speed (NED Speed) measurements. The speed measusurements are given in meters per second. Only load the columns from `LLH Lat` to `UTC Flags` and remove all rows that only include NaNs."
   ]
  },
  {
   "cell_type": "code",
   "execution_count": 2,
   "metadata": {
    "deletable": false,
    "nbgrader": {
     "cell_type": "code",
     "checksum": "77cefbc7d1b81fef1d2d03e8a434cdbe",
     "grade": false,
     "grade_id": "cell-f68fc362bb83db0d",
     "locked": false,
     "schema_version": 3,
     "solution": true,
     "task": false
    }
   },
   "outputs": [],
   "source": [
    "def load_data():\n",
    "    df = pd.read_csv('22112014_3DM_GX3_35.csv', sep=';')  # read the csv with a semicolon delimiter\n",
    "    df = df.loc[:,'LLH Lat': 'UTC Flags']  # load the columns from LLH Lat to UTC Flags\n",
    "    df = df.dropna(axis=0, how='all')  # remove rows that only include NaNs\n",
    "    df = df.drop_duplicates()  # removes duplicate rows\n",
    "    return df  # return the dataframe"
   ]
  },
  {
   "cell_type": "code",
   "execution_count": 3,
   "metadata": {
    "deletable": false,
    "editable": false,
    "nbgrader": {
     "cell_type": "code",
     "checksum": "b3d2cce76478bfe5ff829de369496947",
     "grade": true,
     "grade_id": "cell-471122c4fc65a100",
     "locked": true,
     "points": 4,
     "schema_version": 3,
     "solution": false,
     "task": false
    }
   },
   "outputs": [],
   "source": [
    "#### This cell is reserved for the unit tests. Do not consider this cell. "
   ]
  },
  {
   "cell_type": "markdown",
   "metadata": {
    "deletable": false,
    "editable": false,
    "nbgrader": {
     "cell_type": "markdown",
     "checksum": "bc77353a86018b1e34e9cb553b5ed87f",
     "grade": false,
     "grade_id": "cell-6fa9c3bf4a0313ec",
     "locked": true,
     "schema_version": 3,
     "solution": false,
     "task": false
    }
   },
   "source": [
    "## Checkpoint\n",
    "\n",
    "This is just a check-point, i.e. it is for you to see that you are correctly implementing all functions.\n",
    "\n",
    "Execute the following code (just execute the next cell):\n",
    "```\n",
    "df = load_data()\n",
    "print(df.info())\n",
    "```\n",
    "you should get:\n",
    "```\n",
    "<class 'pandas.core.frame.DataFrame'>\n",
    "Int64Index: 23179 entries, 0 to 139071\n",
    "Data columns (total 24 columns):\n",
    " #   Column           Non-Null Count  Dtype  \n",
    "---  ------           --------------  -----  \n",
    " 0   LLH Lat          23179 non-null  float64\n",
    " 1   LLH Long         23179 non-null  float64\n",
    " 2   LLH Height       23179 non-null  float64\n",
    " 3   LLH MSL Height   23179 non-null  float64\n",
    " 4   LLH Hor Acc      23179 non-null  float64\n",
    " 5   LLH Vert Acc     23179 non-null  float64\n",
    " 6   LLH Flags        23179 non-null  float64\n",
    " 7   NED N            23179 non-null  float64\n",
    " 8   NED E            23179 non-null  float64\n",
    " 9   NED D            23179 non-null  float64\n",
    " 10  NED Speed        23179 non-null  float64\n",
    " 11  NED Grnd Speed   23179 non-null  float64\n",
    " 12  NED Heading      23179 non-null  float64\n",
    " 13  NED Speed Acc    23179 non-null  float64\n",
    " 14  NED Heading Acc  23179 non-null  float64\n",
    " 15  NED Flags        23179 non-null  float64\n",
    " 16  UTC Year         23179 non-null  float64\n",
    " 17  UTC Month        23179 non-null  float64\n",
    " 18  UTC Day          23179 non-null  float64\n",
    " 19  UTC Hour         23179 non-null  float64\n",
    " 20  UTC Minute       23179 non-null  float64\n",
    " 21  UTC Second       23179 non-null  float64\n",
    " 22  UTC Millesecond  23179 non-null  float64\n",
    " 23  UTC Flags        23179 non-null  float64\n",
    "dtypes: float64(24)\n",
    "memory usage: 4.4 MB\n",
    "None\n",
    "```"
   ]
  },
  {
   "cell_type": "code",
   "execution_count": 4,
   "metadata": {
    "deletable": false,
    "editable": false,
    "nbgrader": {
     "cell_type": "code",
     "checksum": "0968725bc75167dddfc851390feb2ffc",
     "grade": false,
     "grade_id": "cell-9825e6f11da29db3",
     "locked": true,
     "schema_version": 3,
     "solution": false,
     "task": false
    }
   },
   "outputs": [
    {
     "name": "stdout",
     "output_type": "stream",
     "text": [
      "<class 'pandas.core.frame.DataFrame'>\n",
      "Index: 23179 entries, 0 to 139071\n",
      "Data columns (total 24 columns):\n",
      " #   Column           Non-Null Count  Dtype  \n",
      "---  ------           --------------  -----  \n",
      " 0   LLH Lat          23179 non-null  float64\n",
      " 1   LLH Long         23179 non-null  float64\n",
      " 2   LLH Height       23179 non-null  float64\n",
      " 3   LLH MSL Height   23179 non-null  float64\n",
      " 4   LLH Hor Acc      23179 non-null  float64\n",
      " 5   LLH Vert Acc     23179 non-null  float64\n",
      " 6   LLH Flags        23179 non-null  float64\n",
      " 7   NED N            23179 non-null  float64\n",
      " 8   NED E            23179 non-null  float64\n",
      " 9   NED D            23179 non-null  float64\n",
      " 10  NED Speed        23179 non-null  float64\n",
      " 11  NED Grnd Speed   23179 non-null  float64\n",
      " 12  NED Heading      23179 non-null  float64\n",
      " 13  NED Speed Acc    23179 non-null  float64\n",
      " 14  NED Heading Acc  23179 non-null  float64\n",
      " 15  NED Flags        23179 non-null  float64\n",
      " 16  UTC Year         23179 non-null  float64\n",
      " 17  UTC Month        23179 non-null  float64\n",
      " 18  UTC Day          23179 non-null  float64\n",
      " 19  UTC Hour         23179 non-null  float64\n",
      " 20  UTC Minute       23179 non-null  float64\n",
      " 21  UTC Second       23179 non-null  float64\n",
      " 22  UTC Millesecond  23179 non-null  float64\n",
      " 23  UTC Flags        23179 non-null  float64\n",
      "dtypes: float64(24)\n",
      "memory usage: 4.4 MB\n",
      "None\n"
     ]
    }
   ],
   "source": [
    "# Just run the following code, do not modify it\n",
    "\n",
    "df = load_data()\n",
    "print(df.info())"
   ]
  },
  {
   "cell_type": "markdown",
   "metadata": {
    "deletable": false,
    "editable": false,
    "nbgrader": {
     "cell_type": "markdown",
     "checksum": "b0aedc92fc3ee7879a16bb670d227e41",
     "grade": false,
     "grade_id": "cell-1344942e3aa3443f",
     "locked": true,
     "schema_version": 3,
     "solution": false,
     "task": false
    }
   },
   "source": [
    "## Question 1.2  [marks 6]\n",
    "\n",
    "Create a function `create_datetime(df)` that indexes the input dataframe `df` with a DateTimeIndex. The index should hold Timestamp objects specifying the time point corresponding to the values in the UTC columns, and should have the same precision (milliseconds) as the time points in the original dataframe."
   ]
  },
  {
   "cell_type": "code",
   "execution_count": 5,
   "metadata": {
    "deletable": false,
    "nbgrader": {
     "cell_type": "code",
     "checksum": "2e109eafaa25dc74f2317c8ab50b70a9",
     "grade": false,
     "grade_id": "cell-9857e0b50ee5b3cc",
     "locked": false,
     "schema_version": 3,
     "solution": true,
     "task": false
    }
   },
   "outputs": [],
   "source": [
    "def create_datetime(df):   \n",
    "    df['datetime_str'] = df[['UTC Year', 'UTC Month', 'UTC Day', 'UTC Hour', 'UTC Minute', 'UTC Second', \n",
    "                             'UTC Millesecond']].astype(int).astype(str).agg('-'.join, axis=1)  # combine the date columns into a new str column with the format after converting each column to an int\n",
    "\n",
    "    df.index = pd.to_datetime(df['datetime_str'], format='%Y-%m-%d-%H-%M-%S-%f')  # DateTimeIndex made from the combined datetime string\n",
    "    \n",
    "    df = df.drop('datetime_str', axis=1)  # drop the temporary datetime column\n",
    "    return df"
   ]
  },
  {
   "cell_type": "code",
   "execution_count": 6,
   "metadata": {
    "deletable": false,
    "editable": false,
    "nbgrader": {
     "cell_type": "code",
     "checksum": "58aa542618f7b92da3ed93a145bc6cc8",
     "grade": true,
     "grade_id": "cell-22dccc62b55a7ef0",
     "locked": true,
     "points": 6,
     "schema_version": 3,
     "solution": false,
     "task": false
    }
   },
   "outputs": [],
   "source": [
    "## This cell is reserved for the unit tests. Do not consider this cell. "
   ]
  },
  {
   "cell_type": "markdown",
   "metadata": {
    "deletable": false,
    "editable": false,
    "nbgrader": {
     "cell_type": "markdown",
     "checksum": "fecd11c910dc53e9857bf0a16495cb05",
     "grade": false,
     "grade_id": "cell-39c0dc9fd0a02f2e",
     "locked": true,
     "schema_version": 3,
     "solution": false,
     "task": false
    }
   },
   "source": [
    "## Question 1.3  [marks 4]\n",
    "\n",
    "Create a function `filter_data(df)` that removes all rows before the GPS measurement at 09:30:00.000 UTC and removes all rows after the GPS measurement at 10:10:00.000 UTC in the dataframe `df`."
   ]
  },
  {
   "cell_type": "code",
   "execution_count": 7,
   "metadata": {
    "deletable": false,
    "nbgrader": {
     "cell_type": "code",
     "checksum": "70120e5421d2dd107691f6c42fd5f13c",
     "grade": false,
     "grade_id": "cell-6a942d756e828e34",
     "locked": false,
     "schema_version": 3,
     "solution": true,
     "task": false
    }
   },
   "outputs": [],
   "source": [
    "def filter_data(df):\n",
    "    start_time = pd.to_datetime('09:30:00', format='%H:%M:%S').time()  # defining the start time\n",
    "    end_time = pd.to_datetime('10:10:00', format='%H:%M:%S').time()  # defining the end time\n",
    "\n",
    "    df = df.between_time(start_time, end_time)  # filter the DataFrame based on the index time\n",
    "    return df"
   ]
  },
  {
   "cell_type": "code",
   "execution_count": 8,
   "metadata": {
    "deletable": false,
    "editable": false,
    "nbgrader": {
     "cell_type": "code",
     "checksum": "3e6575ad9f5bb6722ebd9346496f6789",
     "grade": true,
     "grade_id": "cell-1bfcb857f92ad440",
     "locked": true,
     "points": 4,
     "schema_version": 3,
     "solution": false,
     "task": false
    }
   },
   "outputs": [],
   "source": [
    "## This cell is reserved for the unit tests. Do not consider this cell. "
   ]
  },
  {
   "cell_type": "markdown",
   "metadata": {
    "deletable": false,
    "editable": false,
    "nbgrader": {
     "cell_type": "markdown",
     "checksum": "4e28cf69ceb1228e17b6dfa971a7c30e",
     "grade": false,
     "grade_id": "cell-8839dbe07ac905be",
     "locked": true,
     "schema_version": 3,
     "solution": false,
     "task": false
    }
   },
   "source": [
    "## Question 1.4  [marks 12]\n",
    "\n",
    "Create a function `haversine_distance(df)` that adds a column named `H dist` to the input dataframe `df`. The `H dist` column should be an approximation of the distance in meters between the GPS measurement at the same row and the preceding GPS measurement. The only exception is the first row where `H dist` should be NaN. The approximation should be computed using the Haversine formula: https://en.wikipedia.org/wiki/Haversine_formula. Perform the computations on numpy arrays and compute the distance estimates for all pairs of GPS measurements simultaneously."
   ]
  },
  {
   "cell_type": "code",
   "execution_count": 9,
   "metadata": {
    "deletable": false,
    "nbgrader": {
     "cell_type": "code",
     "checksum": "bfa2c0cb7e9e62610d808eac402612f4",
     "grade": false,
     "grade_id": "cell-1adc61a8d2ffb41f",
     "locked": false,
     "schema_version": 3,
     "solution": true,
     "task": false
    }
   },
   "outputs": [],
   "source": [
    "def haversine_distance(df):\n",
    "    r = 6_371_000  # mean earth radius in meters\n",
    "    \n",
    "    lat = df['LLH Lat'].values  # get the latitude and longitude values\n",
    "    long = df['LLH Long'].values\n",
    "    \n",
    "    lat_shifted = np.roll(lat, shift=1)  # shift the latitude and longitude values by one (the preceding GPS measurement)\n",
    "    long_shifted = np.roll(long, shift=1)\n",
    "\n",
    "    phi_1=np.radians(lat)\n",
    "    phi_2=np.radians(lat_shifted)\n",
    "\n",
    "    delta_phi=np.radians(lat_shifted-lat)\n",
    "    delta_lambda=np.radians(long_shifted-long)\n",
    "    \n",
    "    h = np.sin(delta_phi / 2)**2 + np.cos(phi_1) * np.cos(phi_2) * np.sin(delta_lambda / 2)**2  # inside the 2rarcsin brackets\n",
    "    distance = 2 * r * np.arcsin(h**0.5)\n",
    "    \n",
    "    df['H dist'] = [np.nan] + list(distance)[1:]  # first row is NaN, the rest are distances in meters\n",
    "    \n",
    "    return df"
   ]
  },
  {
   "cell_type": "code",
   "execution_count": 10,
   "metadata": {
    "deletable": false,
    "editable": false,
    "nbgrader": {
     "cell_type": "code",
     "checksum": "89e8dd4e15c603a354b760072da57f99",
     "grade": true,
     "grade_id": "cell-dba5d88755e9292f",
     "locked": true,
     "points": 12,
     "schema_version": 3,
     "solution": false,
     "task": false
    }
   },
   "outputs": [],
   "source": [
    "## This cell is reserved for the unit tests. Do not consider this cell. "
   ]
  },
  {
   "cell_type": "markdown",
   "metadata": {
    "deletable": false,
    "editable": false,
    "nbgrader": {
     "cell_type": "markdown",
     "checksum": "08e029b7eaec11769c628b8ca460e2ad",
     "grade": false,
     "grade_id": "cell-9d164c6fe7db50a1",
     "locked": true,
     "schema_version": 3,
     "solution": false,
     "task": false
    }
   },
   "source": [
    "## Question 1.5  [marks 4]\n",
    "\n",
    "The sampling interval is defined as the time length in between two sequential GPS samples.\n",
    "\n",
    "Create a function `compute_GPS_sampling_interval(df)` that adds a column named `Interval` to the input dataframe `df`. The values in the column should be the sampling interval in seconds between the GPS measurement at the same row and the preceding GPS measurement. The only exception is the first row where `Interval` should be `NaN`. If you have done this correctly, the median sampling interval should be 0.25 seconds."
   ]
  },
  {
   "cell_type": "code",
   "execution_count": 11,
   "metadata": {
    "deletable": false,
    "nbgrader": {
     "cell_type": "code",
     "checksum": "748d485d074f0d96e5ebdaca5db38726",
     "grade": false,
     "grade_id": "cell-427bb1e1066d6a03",
     "locked": false,
     "schema_version": 3,
     "solution": true,
     "task": false
    }
   },
   "outputs": [],
   "source": [
    "def compute_GPS_sampling_interval(df):\n",
    "    index = df.index.values  # get index values\n",
    "    index_shifted = np.roll(index, shift=1)  # shift the index values by one\n",
    "    \n",
    "    interval = index - index_shifted\n",
    "    interval = interval / np.timedelta64(1, 's')\n",
    "        \n",
    "    df['Interval'] = [np.nan] + list(interval)[1:]  # first row is NaN, the rest are intervals in seconds\n",
    "    \n",
    "    def median(data):  # from W2 exercise solution\n",
    "        sorted_data = sorted(data)\n",
    "        if len(data) % 2 == 1:\n",
    "            idx = len(data)//2\n",
    "            return sorted_data[idx]\n",
    "        else:\n",
    "            idx = len(data)//2\n",
    "            return 0.5*(sorted_data[idx-1] + sorted_data[idx])\n",
    "    \n",
    "    # print(median(list(df['Interval'])))\n",
    "\n",
    "    return df"
   ]
  },
  {
   "cell_type": "code",
   "execution_count": 12,
   "metadata": {
    "deletable": false,
    "editable": false,
    "nbgrader": {
     "cell_type": "code",
     "checksum": "0fa2d873bc68be1e06bd4b7facdc7754",
     "grade": true,
     "grade_id": "cell-ad7a7be5b50ec469",
     "locked": true,
     "points": 4,
     "schema_version": 3,
     "solution": false,
     "task": false
    }
   },
   "outputs": [],
   "source": [
    "## This cell is reserved for the unit tests. Do not consider this cell. "
   ]
  },
  {
   "cell_type": "markdown",
   "metadata": {
    "deletable": false,
    "editable": false,
    "nbgrader": {
     "cell_type": "markdown",
     "checksum": "458d8d1bb58128bd026a5d370e3b82de",
     "grade": false,
     "grade_id": "cell-63562ec263d177c8",
     "locked": true,
     "schema_version": 3,
     "solution": false,
     "task": false
    }
   },
   "source": [
    "## Question 1.6  [marks 2]\n",
    "\n",
    "Create a function `haversine_speed(df)` that adds a column named `H speed` to the input dataframe `df`. The `H speed` column should be an approximation of the speed in meters per second in between the GPS measurement at the same row and the preceding GPS measurement. The approximation should be computed by dividing the values in the `H dist` column by the values at the corresponding rows in the `Interval` column."
   ]
  },
  {
   "cell_type": "code",
   "execution_count": 13,
   "metadata": {
    "deletable": false,
    "nbgrader": {
     "cell_type": "code",
     "checksum": "e415bdfe8f51eee3b83dd31db7a8640d",
     "grade": false,
     "grade_id": "cell-47e4eb72ea502729",
     "locked": false,
     "schema_version": 3,
     "solution": true,
     "task": false
    }
   },
   "outputs": [],
   "source": [
    "def haversine_speed(df):\n",
    "    df['H speed'] = df['H dist'] / df['Interval']  # speed = distance / time\n",
    "    return df"
   ]
  },
  {
   "cell_type": "code",
   "execution_count": 14,
   "metadata": {
    "deletable": false,
    "editable": false,
    "nbgrader": {
     "cell_type": "code",
     "checksum": "f4a820dd7dda1beaffb4def0d3b8379a",
     "grade": true,
     "grade_id": "cell-f708849976af41d1",
     "locked": true,
     "points": 2,
     "schema_version": 3,
     "solution": false,
     "task": false
    }
   },
   "outputs": [],
   "source": [
    "## This cell is reserved for the unit tests. Do not consider this cell. "
   ]
  },
  {
   "cell_type": "markdown",
   "metadata": {
    "deletable": false,
    "editable": false,
    "nbgrader": {
     "cell_type": "markdown",
     "checksum": "1f6b8b7d9172a89abf5bf52e6edaf41c",
     "grade": false,
     "grade_id": "cell-91f5169d59d3bbe2",
     "locked": true,
     "schema_version": 3,
     "solution": false,
     "task": false
    }
   },
   "source": [
    "## Question 1.7  [marks 5]\n",
    "\n",
    "Create a function `plot_speeds(df ,start_time, end_time)` that takes as input the DataFrame `df` from previous subquestions, and two Timestamp objects `start_time` and `end_time`. The function should plot the values of the GPS speed measurements and the speed estimates computed in the previous subquestion at all time points in between `start_time` and `end_time`. The time should be displayed along the horizontal axis. The function should raise an AssertionError if `end_time` is not after `start_time`. Remember to include a legend to identify the lines in the plots and to label your axes with appropriate units. If you've done everything correctly so far, the estimated and measured speed will show a striking similarity at most sampling instances between 9:30 and 10:10."
   ]
  },
  {
   "cell_type": "code",
   "execution_count": 15,
   "metadata": {
    "deletable": false,
    "nbgrader": {
     "cell_type": "code",
     "checksum": "44726d0816f34f401380a3a014c6bfd8",
     "grade": false,
     "grade_id": "cell-e5463ba9c302f301",
     "locked": false,
     "schema_version": 3,
     "solution": true,
     "task": false
    }
   },
   "outputs": [],
   "source": [
    "def plot_speeds(df, start_time, end_time):\n",
    "    if start_time >= end_time:\n",
    "        raise AssertionError('End time is not after start time')\n",
    "        \n",
    "    filtered_df = df.between_time(start_time.time(), end_time.time())\n",
    "\n",
    "    def normalise(array):\n",
    "        return (array - np.min(array)) / (np.max(array) - np.min(array))\n",
    "    \n",
    "    # Extract the relevant data for plotting\n",
    "    time = filtered_df.index\n",
    "    gps_speed = filtered_df['NED Speed'].values\n",
    "    speed_estimate = filtered_df['H speed'].values\n",
    "\n",
    "    # gps_speed = normalise(gps_speed)\n",
    "    # speed_estimate = normalise(speed_estimate)\n",
    "\n",
    "    # Create a plot with two lines: GPS speed and Speed estimate\n",
    "    plt.figure(figsize=(24, 12))\n",
    "    \n",
    "    # Plot GPS speed\n",
    "    plt.plot(time, gps_speed, label='GPS Speed (m/s)', color='blue')\n",
    "\n",
    "    # Plot speed estimate\n",
    "    plt.plot(time, speed_estimate, label='Speed Estimate (m/s)', color='red')\n",
    "\n",
    "    # Add labels and a legend\n",
    "    plt.xlabel('Time')\n",
    "    plt.ylabel('Speed (m/s)')\n",
    "    plt.title('GPS Speed Measurements vs. Speed Estimates')\n",
    "    plt.legend()\n",
    "\n",
    "    # Display the plot\n",
    "    plt.grid(True)\n",
    "    plt.tight_layout()\n",
    "    plt.show()\n"
   ]
  },
  {
   "cell_type": "code",
   "execution_count": 16,
   "metadata": {
    "deletable": false,
    "editable": false,
    "nbgrader": {
     "cell_type": "code",
     "checksum": "5dc2b69762e7ebeb1032021c0fbde8c7",
     "grade": true,
     "grade_id": "cell-3d4442abea8df788",
     "locked": true,
     "points": 5,
     "schema_version": 3,
     "solution": false,
     "task": false
    }
   },
   "outputs": [],
   "source": [
    "## This cell is reserved for the unit tests. Do not consider this cell. "
   ]
  },
  {
   "cell_type": "markdown",
   "metadata": {
    "deletable": false,
    "editable": false,
    "nbgrader": {
     "cell_type": "markdown",
     "checksum": "e11be174a0d7e10f002c99c2c21434eb",
     "grade": false,
     "grade_id": "cell-62105a7c8026d3ec",
     "locked": true,
     "schema_version": 3,
     "solution": false,
     "task": false
    }
   },
   "source": [
    "## Question 1.8  [marks 4]\n",
    "\n",
    "Create a function `rmsd, mad = estimation_metrics(series1, series2)` that takes two series with the same shape as input and outputs the root-mean-square deviation and the mean-absolute deviation of these while ignoring NaN values [2 marks]. Provide some short (< 100 words) reasoning as comments about the pros and cons of using these two metrics for assessing the similarity of the columns `H speed` and `NED Speed` [2 marks]."
   ]
  },
  {
   "cell_type": "code",
   "execution_count": 17,
   "metadata": {
    "deletable": false,
    "nbgrader": {
     "cell_type": "code",
     "checksum": "651d2346bcc655d2eeec1b21a9239b89",
     "grade": false,
     "grade_id": "cell-f6c96eae28da3ee5",
     "locked": false,
     "schema_version": 3,
     "solution": true,
     "task": false
    }
   },
   "outputs": [],
   "source": [
    "def estimation_metrics(series1, series2):\n",
    "    # Remove NaN values from both series\n",
    "    valid_indices = ~np.isnan(series1) & ~np.isnan(series2)\n",
    "    valid_series1 = series1[valid_indices]\n",
    "    valid_series2 = series2[valid_indices]\n",
    "    \n",
    "    # Calculate RMSD and MAD\n",
    "    rmsd = np.sqrt(np.mean((valid_series1 - valid_series2)**2))\n",
    "    mad = np.mean(np.abs(valid_series1 - valid_series2))\n",
    "    \n",
    "    return rmsd, mad\n",
    "\n",
    "# RMSD's pros is its sensitivity to errors applying mutliers since it uses absolute differencore weight, the larger the error. \n",
    "# Cons include its sensitivity to outliers as it involves squaring the errors. MAD's pros is its robust to oes not squared. MAD \n",
    "# also has better interpretability since its result is the same unit as the original data. On the downside, MAD gives equal \n",
    "# weights to all errors regardless of their magnitude. In this case, we will want to use RMSD as there must be a larger \n",
    "# penalisation of error if the H speed calculated is far off the NED speed. (99 words)"
   ]
  },
  {
   "cell_type": "code",
   "execution_count": 18,
   "metadata": {
    "deletable": false,
    "editable": false,
    "nbgrader": {
     "cell_type": "code",
     "checksum": "c6f592e0521994f18d15ae3fbe733428",
     "grade": true,
     "grade_id": "cell-d39d0bdd72cc49d9",
     "locked": true,
     "points": 4,
     "schema_version": 3,
     "solution": false,
     "task": false
    }
   },
   "outputs": [],
   "source": [
    "## This cell is reserved for the unit tests. Do not consider this cell. "
   ]
  },
  {
   "cell_type": "markdown",
   "metadata": {
    "deletable": false,
    "editable": false,
    "nbgrader": {
     "cell_type": "markdown",
     "checksum": "b7ba0fd908fbe09d9a0e94df3ab6a7fa",
     "grade": false,
     "grade_id": "cell-25f22418acf138e3",
     "locked": true,
     "schema_version": 3,
     "solution": false,
     "task": false
    }
   },
   "source": [
    "## Question 1.9  [marks 15]\n",
    "\n",
    "A vector $v$ is dominated by a vector $u$ if $u[i]>v[i]$ for all $i$. The Pareto front of a set of vectors $D$ is the set of vectors that are not dominated by any other vector in $D$. Use the notion of a Pareto front to write a function `plot_pareto(df)` that produces the plot below when executing the following code:\n",
    "\n",
    "```python\n",
    "df = load_data()\n",
    "df = create_datetime(df)\n",
    "df = filter_data(df)\n",
    "plot_pareto(df)\n",
    "```\n",
    "\n",
    "<img src='pareto.png' width=\"500\">\n",
    "\n",
    "Hint: To speed up the code, it's enough if you only consider every tenth GPS measurement."
   ]
  },
  {
   "cell_type": "code",
   "execution_count": 19,
   "metadata": {
    "deletable": false,
    "nbgrader": {
     "cell_type": "code",
     "checksum": "0c361fb83ce7d2c6b99fe520b22b0d44",
     "grade": false,
     "grade_id": "cell-d4f797f5503eefcd",
     "locked": false,
     "schema_version": 3,
     "solution": true,
     "task": false
    }
   },
   "outputs": [],
   "source": [
    "def plot_pareto(df):\n",
    "    df = df.iloc[::10]\n",
    "\n",
    "    def pareto(df, maximise=False):\n",
    "        pareto_front = []\n",
    "        for i, row in df.iterrows():\n",
    "            is_pareto = True\n",
    "            for j, other_row in df.iterrows():\n",
    "                if maximise:\n",
    "                    if i != j and all(row >= other_row):\n",
    "                        is_pareto = False\n",
    "                        break\n",
    "                else:\n",
    "                    if i != j and all(row <= other_row):\n",
    "                        is_pareto = False\n",
    "                        break\n",
    "            if is_pareto:\n",
    "                pareto_front.append(row)\n",
    "        return pareto_front\n",
    "\n",
    "    # Create an empty list to store Pareto front points\n",
    "    pareto_front_max = pareto(df[['LLH Long', 'LLH Lat']], True)\n",
    "\n",
    "    pareto_front_min = pareto(df[['LLH Long', 'LLH Lat']])\n",
    "\n",
    "    # Convert the Pareto front list to a DataFrame\n",
    "    pareto_max_df = pd.DataFrame(pareto_front_max)\n",
    "    pareto_min_df = pd.DataFrame(pareto_front_min)\n",
    " \n",
    "    plt.figure(figsize=(12, 7))\n",
    "\n",
    "    # Create the Pareto plot\n",
    "    plt.scatter(df['LLH Long'], df['LLH Lat'], color='blue')\n",
    "    plt.plot(pareto_min_df['LLH Long'], pareto_min_df['LLH Lat'], color='green', linewidth=8)\n",
    "    plt.plot(pareto_max_df['LLH Long'], pareto_max_df['LLH Lat'], color='red', linewidth=8)\n",
    "    \n",
    "    plt.xlabel('Longitude')\n",
    "    plt.ylabel('Latitude')\n",
    "    \n",
    "    plt.show()"
   ]
  },
  {
   "cell_type": "code",
   "execution_count": 20,
   "metadata": {
    "deletable": false,
    "editable": false,
    "nbgrader": {
     "cell_type": "code",
     "checksum": "9e0e67eea908a4a8752e50f2a94aa1ca",
     "grade": true,
     "grade_id": "cell-39cc1244b89639fc",
     "locked": true,
     "points": 15,
     "schema_version": 3,
     "solution": false,
     "task": false
    }
   },
   "outputs": [],
   "source": [
    "## This cell is reserved for the unit tests. Do not consider this cell. "
   ]
  },
  {
   "cell_type": "code",
   "execution_count": 21,
   "metadata": {
    "deletable": false,
    "editable": false,
    "nbgrader": {
     "cell_type": "code",
     "checksum": "c870047944d65f5b9214890389916b52",
     "grade": false,
     "grade_id": "cell-ac638619cf2dbdcf",
     "locked": true,
     "schema_version": 3,
     "solution": false,
     "task": false
    }
   },
   "outputs": [
    {
     "data": {
      "image/png": "[encoded data removed]",
      "text/plain": [
       "<Figure size 1200x700 with 1 Axes>"
      ]
     },
     "metadata": {},
     "output_type": "display_data"
    }
   ],
   "source": [
    "# Just run the following code, do not modify it\n",
    "df = load_data()\n",
    "df = create_datetime(df)\n",
    "df = filter_data(df)\n",
    "plot_pareto(df)"
   ]
  },
  {
   "cell_type": "markdown",
   "metadata": {
    "deletable": false,
    "editable": false,
    "nbgrader": {
     "cell_type": "markdown",
     "checksum": "838e4bdc85d59f6b4fd2becaea871966",
     "grade": false,
     "grade_id": "cell-562da64ccab5ee23",
     "locked": true,
     "schema_version": 3,
     "solution": false,
     "task": false
    }
   },
   "source": [
    "## Question 1.10  [marks 4]\n",
    "\n",
    "Create a function `discretize_column(df, selected_column, num_bins)` that takes as input a dataframe `df`, a column name `selected_column`, and an integer `num_bins`. The function should output a 1D array that is a discretized version of the column `selected_column` in the dataframe `df` with `num_bins` different discrete values. The discrete values should, as far as possible, occur an equal number of times in the output. Thus, if `df['selected_column']` contains the values `0, 4, 8, 2, 3, 1`, in that order, `discretize_column(df, selected_column, 3)` should output an array with the values `1, 3, 3, 2, 2, 1`."
   ]
  },
  {
   "cell_type": "code",
   "execution_count": 22,
   "metadata": {
    "deletable": false,
    "nbgrader": {
     "cell_type": "code",
     "checksum": "fc88eeddb169960a9f6798825b9aafdf",
     "grade": false,
     "grade_id": "cell-9c3933773a16ada2",
     "locked": false,
     "schema_version": 3,
     "solution": true,
     "task": false
    }
   },
   "outputs": [],
   "source": [
    "def discretize_column(df, selected_column, num_bins):\n",
    "    if selected_column not in df:\n",
    "        raise AssertionError(f'{selected_column} not found in df')\n",
    "    \n",
    "    column_values = df[selected_column].values\n",
    "\n",
    "    bin_edges = np.percentile(column_values, np.linspace(0, 100, num_bins + 1))  # Find bin edges to get equal frequency binning\n",
    "\n",
    "    discretised_column = pd.cut(column_values, bins=bin_edges, labels=False, include_lowest=True)  # Discretise the column into bins\n",
    "\n",
    "    discretised_column += 1  # Add 1 to make the labels start from 1 instead of 0\n",
    "\n",
    "    return discretised_column"
   ]
  },
  {
   "cell_type": "code",
   "execution_count": 23,
   "metadata": {
    "deletable": false,
    "editable": false,
    "nbgrader": {
     "cell_type": "code",
     "checksum": "3e950dce093a7adc9232d63b16aebcc9",
     "grade": true,
     "grade_id": "cell-089266563363ceaa",
     "locked": true,
     "points": 4,
     "schema_version": 3,
     "solution": false,
     "task": false
    }
   },
   "outputs": [],
   "source": [
    "## This cell is reserved for the unit tests. Do not consider this cell. "
   ]
  },
  {
   "cell_type": "markdown",
   "metadata": {
    "deletable": false,
    "editable": false,
    "nbgrader": {
     "cell_type": "markdown",
     "checksum": "b958cc5ff19c753f0c92f2bb8d050a02",
     "grade": false,
     "grade_id": "cell-8a97653ec488cf01",
     "locked": true,
     "schema_version": 3,
     "solution": false,
     "task": false
    }
   },
   "source": [
    "## Question 1.11  [marks 5]\n",
    "\n",
    "Create a function `extract_stats(df, selected_column, column_list, num_bins)` that takes as input a dataframe `df`, a column name `selected_column`, a list of column names `column_list`, and an integer `num_bins`. The function `extract_stats` should use the function from the previous subquestion to discretize the values in the column `selected_column` and then group the rows according to these discretized values and extract the mean and the standard deviation of the columns in `column_list` for each of those groups. The output should be a DataFrame.\n",
    "\n",
    "If applied to the dataframe from previous subquestions `df` with `selected_column='NED Heading Acc'`, `column_list=['NED Speed', 'NED Speed Acc']`, and `num_bins = 5`, you should obtain a DataFrame of the form (where `x.xxxxxx` are replaced by real statistics): [3 marks]\n",
    "```\n",
    "                 NED Speed             NED Speed Acc                     \n",
    "                 mean       std        mean       std\n",
    "NED Heading Acc                                                                                 \n",
    "              1  x.xxxxxx   x.xxxxxx   x.xxxxxx   x.xxxxxx\n",
    "              2  x.xxxxxx   x.xxxxxx   x.xxxxxx   x.xxxxxx\n",
    "              3  x.xxxxxx   x.xxxxxx   x.xxxxxx   x.xxxxxx\n",
    "              4  x.xxxxxx   x.xxxxxx   x.xxxxxx   x.xxxxxx\n",
    "              5  x.xxxxxx   x.xxxxxx   x.xxxxxx   x.xxxxxx\n",
    "```\n",
    "\n",
    "Use comments to describe (< 100 words) the relationship between the columns `'NED Heading Acc'`, `'NED Speed'`, and `'NED Speed Acc'` [2 marks]."
   ]
  },
  {
   "cell_type": "code",
   "execution_count": 24,
   "metadata": {
    "deletable": false,
    "nbgrader": {
     "cell_type": "code",
     "checksum": "8176bd68647e23874d1643d07143839a",
     "grade": false,
     "grade_id": "cell-215309ee8a45085c",
     "locked": false,
     "schema_version": 3,
     "solution": true,
     "task": false
    }
   },
   "outputs": [],
   "source": [
    "def extract_stats(df, selected_column, column_list, num_bins):\n",
    "    for column in column_list:\n",
    "        if column not in df:\n",
    "            raise AssertionError(f'{column} not found in df')\n",
    "    \n",
    "    # Discretize the selected column\n",
    "    df['discretised_column'] = discretize_column(df, selected_column, num_bins)\n",
    "\n",
    "    # Group by the discretized column and calculate mean and std for each group\n",
    "    grouped_stats = df.groupby('discretised_column')[column_list].agg(['mean', 'std'])\n",
    "\n",
    "    # Rename the columns for clarity\n",
    "    grouped_stats.columns = [f'{column}_{stat}' for column, stat in grouped_stats.columns]\n",
    "\n",
    "    # Create a new DataFrame with the specified format\n",
    "    result_df = pd.DataFrame(index=range(1, num_bins + 1))\n",
    "    \n",
    "    for column in column_list:\n",
    "        result_df[f'{column} mean'] = grouped_stats[f'{column}_mean']\n",
    "        result_df[f'{column} std'] = grouped_stats[f'{column}_std']\n",
    "\n",
    "    result_df.index.name = f'{selected_column}'\n",
    "\n",
    "    return result_df\n",
    "\n",
    "# As the NED Heading Acc increases from 1 to 5, there is a general trend of decreasing values in both NED Speed mean and NED Speed Acc mean. \n",
    "# This suggests an inverse relationship between NED Heading Acc and the NED speed and NED Speed acceleration. The standard deviations in \n",
    "# NED Speed and NED Speed Acc also tend to decrease with increasing NED Heading Acc, indicating a more concentrated distribution around \n",
    "# the mean values as the heading acceleration increases."
   ]
  },
  {
   "cell_type": "code",
   "execution_count": 25,
   "metadata": {
    "deletable": false,
    "editable": false,
    "nbgrader": {
     "cell_type": "code",
     "checksum": "d2c5e7e3a37580d4d7819942291d65a9",
     "grade": true,
     "grade_id": "cell-d10faba2aba9c858",
     "locked": true,
     "points": 5,
     "schema_version": 3,
     "solution": false,
     "task": false
    }
   },
   "outputs": [],
   "source": [
    "## This cell is reserved for the unit tests. Do not consider this cell. "
   ]
  },
  {
   "cell_type": "markdown",
   "metadata": {
    "deletable": false,
    "editable": false,
    "nbgrader": {
     "cell_type": "markdown",
     "checksum": "0c9233048b2618a19336102e15b567cc",
     "grade": false,
     "grade_id": "cell-98437232d3482cc3",
     "locked": true,
     "schema_version": 3,
     "solution": false,
     "task": false
    }
   },
   "source": [
    "# Part 2\n",
    "\n",
    "**Aim:** Show competence in using the `numpy` library for generating and analysing a data set."
   ]
  },
  {
   "cell_type": "markdown",
   "metadata": {
    "deletable": false,
    "editable": false,
    "nbgrader": {
     "cell_type": "markdown",
     "checksum": "d94efb7aec34411ea8aa8dee4fa46f50",
     "grade": false,
     "grade_id": "cell-af4cfbc9d3c0684c",
     "locked": true,
     "schema_version": 3,
     "solution": false,
     "task": false
    }
   },
   "source": [
    "## Question 2.1  [marks 12]\n",
    "\n",
    "Create a function `x1, x2 = generate_data(N, sigma)` that outputs two arrays `x1` and `x2`, both with shape `(N,3)`. The arrays should be generated by first sampling from two probabilistic models with randomly generated parameters and then adding independent, zero-mean Gaussian noise with a standard deviation of `sigma` to each element in both arrays. Implement the probabilistic models so that the code\n",
    "```\n",
    "x1, x2 = generate_data(100, 0)\n",
    "plt.scatter(x1[:,0],x1[:,1],color='blue')\n",
    "plt.scatter(x1[:,0],x1[:,2],color='red')\n",
    "plt.scatter(x2[:,0],x2[:,1],color='green')\n",
    "plt.scatter(x2[:,0],x2[:,2],color='black')\n",
    "```\n",
    "result in plots similar to the plots below.\n",
    "\n",
    "<img src='ex1.png' width=\"500\">\n",
    "<img src='ex2.png' width=\"500\">\n",
    "<img src='ex3.png' width=\"500\">"
   ]
  },
  {
   "cell_type": "code",
   "execution_count": 26,
   "metadata": {
    "deletable": false,
    "nbgrader": {
     "cell_type": "code",
     "checksum": "42870b2027685d0a63b8a637502d7d32",
     "grade": false,
     "grade_id": "cell-3472e4c2a8b7d8cb",
     "locked": false,
     "schema_version": 3,
     "solution": true,
     "task": false
    }
   },
   "outputs": [],
   "source": [
    "def generate_data(N, sigma):\n",
    "    # np.random.seed(3)\n",
    "\n",
    "    def generate_covariance_matrix():\n",
    "        A = np.random.rand(3, 3)\n",
    "        return np.dot(A, A.T)\n",
    "    \n",
    "    # Randomly generate parameters for the probabilistic models\n",
    "    mu1 = np.zeros(3)\n",
    "    cov1 = generate_covariance_matrix()\n",
    "    \n",
    "    mu2 = np.zeros(3)\n",
    "    cov2 = generate_covariance_matrix()\n",
    "\n",
    "    # Generate data from the first probabilistic model\n",
    "    # x1 = np.random.multivariate_normal(mu1, cov1, N)\n",
    "    \n",
    "    x1 = np.zeros((N, 3))\n",
    "\n",
    "    # Generate random values and create columns\n",
    "    for i in range(3):\n",
    "        rand = np.random.uniform(-1, 1)\n",
    "        column_values = np.linspace(rand, -rand, N)  # Adjust the range as needed\n",
    "        x1[:, i] = column_values\n",
    "\n",
    "    # Generate data from the second probabilistic model\n",
    "    x2 = np.random.multivariate_normal(mu2, cov2, N)\n",
    "    \n",
    "    # Add independent, zero-mean Gaussian noise with standard deviation sigma\n",
    "    noise = np.random.normal(0, sigma, (N, 3))\n",
    "    x1 += noise\n",
    "    x2 += noise\n",
    "\n",
    "    return x1, x2\n"
   ]
  },
  {
   "cell_type": "code",
   "execution_count": 27,
   "metadata": {
    "deletable": false,
    "editable": false,
    "nbgrader": {
     "cell_type": "code",
     "checksum": "2a9f7ef95d9d53a50c3bd4d9cab1010a",
     "grade": true,
     "grade_id": "cell-a5482903a91b15c0",
     "locked": true,
     "points": 12,
     "schema_version": 3,
     "solution": false,
     "task": false
    }
   },
   "outputs": [],
   "source": [
    "## This cell is reserved for the unit tests. Do not consider this cell. "
   ]
  },
  {
   "cell_type": "markdown",
   "metadata": {
    "deletable": false,
    "editable": false,
    "nbgrader": {
     "cell_type": "markdown",
     "checksum": "0d6df5e5bdd4fe4dadb72f3a35f70ab2",
     "grade": false,
     "grade_id": "cell-0ccc5f19410581a7",
     "locked": true,
     "schema_version": 3,
     "solution": false,
     "task": false
    }
   },
   "source": [
    "## Question 2.2  [marks 5]\n",
    "\n",
    "Create a function `X, y = generate_full_data(M, N, sigma)` that outputs an array `X` with shape `(2M,N,3)`, and an array `y` with shape `(2M,1)`. The values in `X` should be generated through `M` function calls of `x1, x2 = generate_data(N, sigma)`, where each `X[i]` is assigned the value of either  `x1` or `x2`. `y[i]` should be a binary label that indicates whether `X[i]` has been generated from `x1` or `x2`."
   ]
  },
  {
   "cell_type": "code",
   "execution_count": 28,
   "metadata": {
    "deletable": false,
    "nbgrader": {
     "cell_type": "code",
     "checksum": "d6beaa2100c94c9edbd9ebc6c10e99b3",
     "grade": false,
     "grade_id": "cell-ffb4b44bc09a5370",
     "locked": false,
     "schema_version": 3,
     "solution": true,
     "task": false
    }
   },
   "outputs": [],
   "source": [
    "def generate_full_data(M, N, sigma):\n",
    "    X = np.zeros((2 * M, N, 3))\n",
    "    y = np.zeros((2 * M, 1))\n",
    "\n",
    "    for i in range(M):\n",
    "        x1, x2 = generate_data(N, sigma)\n",
    "        X[i] = x1\n",
    "        X[M + i] = x2\n",
    "        y[i] = 0  # Label for x1\n",
    "        y[M + i] = 1  # Label for x2\n",
    "\n",
    "    return X, y"
   ]
  },
  {
   "cell_type": "code",
   "execution_count": 29,
   "metadata": {
    "deletable": false,
    "editable": false,
    "nbgrader": {
     "cell_type": "code",
     "checksum": "a4a42f1942742e49ee20b6c9698f7a88",
     "grade": true,
     "grade_id": "cell-8c9cf22e97ff54e3",
     "locked": true,
     "points": 5,
     "schema_version": 3,
     "solution": false,
     "task": false
    }
   },
   "outputs": [],
   "source": [
    "## This cell is reserved for the unit tests. Do not consider this cell. "
   ]
  },
  {
   "cell_type": "markdown",
   "metadata": {
    "deletable": false,
    "editable": false,
    "nbgrader": {
     "cell_type": "markdown",
     "checksum": "dee24a98f68bc130d63d7c9712033a69",
     "grade": false,
     "grade_id": "cell-73d2c64e5290e7c8",
     "locked": true,
     "schema_version": 3,
     "solution": false,
     "task": false
    }
   },
   "source": [
    "## Question 2.3  [marks 3]\n",
    "\n",
    "Create a function `ssm(u)` that takes a 1D array $\\mathbf{u}=[u_1\\;u_2\\;u_3]^\\intercal$ as input and outputs a 2D array of the form $\\left[\\begin{matrix} 0 & -u_3 & u_2 \\\\ u_3 & 0 & -u_1 \\\\ -u_2 & u_1 & 0 \\end{matrix}\\right]$."
   ]
  },
  {
   "cell_type": "code",
   "execution_count": 30,
   "metadata": {
    "deletable": false,
    "nbgrader": {
     "cell_type": "code",
     "checksum": "d2a48adb617056718b5c8aaae27e1a84",
     "grade": false,
     "grade_id": "cell-537f4c3e3cad407c",
     "locked": false,
     "schema_version": 3,
     "solution": true,
     "task": false
    }
   },
   "outputs": [],
   "source": [
    "def ssm(u):\n",
    "    if len(u) != 3:\n",
    "        raise AssertionError(\"Input array must have three elements.\")\n",
    "\n",
    "    matrix = np.array([[0, -u[2], u[1]],\n",
    "                       [u[2], 0, -u[0]],\n",
    "                       [-u[1], u[0], 0]])\n",
    "\n",
    "    return matrix"
   ]
  },
  {
   "cell_type": "code",
   "execution_count": 31,
   "metadata": {
    "deletable": false,
    "editable": false,
    "nbgrader": {
     "cell_type": "code",
     "checksum": "10101b004cead3852f9722a2a8804839",
     "grade": true,
     "grade_id": "cell-a9377555843e6eaa",
     "locked": true,
     "points": 3,
     "schema_version": 3,
     "solution": false,
     "task": false
    }
   },
   "outputs": [],
   "source": [
    "## This cell is reserved for the unit tests. Do not consider this cell. "
   ]
  },
  {
   "cell_type": "markdown",
   "metadata": {
    "deletable": false,
    "editable": false,
    "nbgrader": {
     "cell_type": "markdown",
     "checksum": "2542da535851fb15ea114c3a2d2578b8",
     "grade": false,
     "grade_id": "cell-b77dd1110186558b",
     "locked": true,
     "schema_version": 3,
     "solution": false,
     "task": false
    }
   },
   "source": [
    "## Question 2.4  [marks 5]\n",
    "\n",
    "Create a function `detection_statistic(X)` that takes as input an array with shape `(N,3)` and outputs the minimal eigenvalue of the matrix $\\mathbf{M}=\\sum_{i=1}^N [\\mathbf{x}_i]_\\times^\\intercal [\\mathbf{x}_i]_\\times$, where $[\\mathbf{x}_i]_\\times$ denotes the output of the function created in the preceding subquestion when the input is the $i$th row in `X`."
   ]
  },
  {
   "cell_type": "code",
   "execution_count": 32,
   "metadata": {
    "deletable": false,
    "nbgrader": {
     "cell_type": "code",
     "checksum": "848cef2c82f2f4bf8587132c40784f09",
     "grade": false,
     "grade_id": "cell-d4343b22337aea86",
     "locked": false,
     "schema_version": 3,
     "solution": true,
     "task": false
    }
   },
   "outputs": [],
   "source": [
    "def detection_statistic(X):\n",
    "    if X.shape[1] != 3:\n",
    "        raise AssertionError(\"Input must have shape (N, 3)\")\n",
    "    \n",
    "    N = X.shape[0]\n",
    "    M = np.zeros((3, 3))\n",
    "\n",
    "    for i in range(N):\n",
    "        xi_cross = ssm(X[i])\n",
    "        M += np.dot(xi_cross.T, xi_cross)\n",
    "\n",
    "    eigenvalues, _ = np.linalg.eig(M)\n",
    "    min_eigenvalue = np.min(eigenvalues)\n",
    "\n",
    "    return min_eigenvalue"
   ]
  },
  {
   "cell_type": "code",
   "execution_count": 33,
   "metadata": {
    "deletable": false,
    "editable": false,
    "nbgrader": {
     "cell_type": "code",
     "checksum": "190229678423f04a57204b6fcf531754",
     "grade": true,
     "grade_id": "cell-46008aaa3b368aa8",
     "locked": true,
     "points": 5,
     "schema_version": 3,
     "solution": false,
     "task": false
    }
   },
   "outputs": [],
   "source": [
    "## This cell is reserved for the unit tests. Do not consider this cell. "
   ]
  },
  {
   "cell_type": "markdown",
   "metadata": {
    "deletable": false,
    "editable": false,
    "nbgrader": {
     "cell_type": "markdown",
     "checksum": "8c77fba04333a60d0ce74dec86e793c6",
     "grade": false,
     "grade_id": "cell-a0e9ac240208336c",
     "locked": true,
     "schema_version": 3,
     "solution": false,
     "task": false
    }
   },
   "source": [
    "## Question 2.5  [marks 4]\n",
    "\n",
    "Create a function `detector(X, threshold)` that takes as input an array `X` with shape `(M,N,3)` and a scalar `threshold`. The function should output an array with shape `(M,1)`. The $i$th element in the output array should be a binary indicator of whether the detection statistic computed using the function you developed in the previous subquestion with `X[i-1]` as input exceeds `threshold` or not."
   ]
  },
  {
   "cell_type": "code",
   "execution_count": 34,
   "metadata": {
    "deletable": false,
    "nbgrader": {
     "cell_type": "code",
     "checksum": "35248277ebaeaccfa7132bac3b7684ad",
     "grade": false,
     "grade_id": "cell-bbf31dbe479269e2",
     "locked": false,
     "schema_version": 3,
     "solution": true,
     "task": false
    }
   },
   "outputs": [],
   "source": [
    "def detector(X, threshold):\n",
    "    if len(X.shape) != 3 or X.shape[-1] != 3:\n",
    "        raise AssertionError('Input X must be of shape (M, N, 3)')\n",
    "    \n",
    "    M = X.shape[0]\n",
    "    result = np.zeros((M, 1), dtype=int)  # binary array of results\n",
    "\n",
    "    for i in range(M):\n",
    "        detection_stat = detection_statistic(X[i])\n",
    "        result[i] = int(detection_stat > threshold)\n",
    "\n",
    "    return result"
   ]
  },
  {
   "cell_type": "code",
   "execution_count": 35,
   "metadata": {
    "deletable": false,
    "editable": false,
    "nbgrader": {
     "cell_type": "code",
     "checksum": "58baca3e3b16fb4a0ed9cacd04d5c5e5",
     "grade": true,
     "grade_id": "cell-d18c4c19bb3337d1",
     "locked": true,
     "points": 4,
     "schema_version": 3,
     "solution": false,
     "task": false
    }
   },
   "outputs": [],
   "source": [
    "## This cell is reserved for the unit tests. Do not consider this cell. "
   ]
  },
  {
   "cell_type": "markdown",
   "metadata": {
    "deletable": false,
    "editable": false,
    "nbgrader": {
     "cell_type": "markdown",
     "checksum": "4a336a4181fed68b5b43ba76b1296356",
     "grade": false,
     "grade_id": "cell-f1a3bc23d8bbd039",
     "locked": true,
     "schema_version": 3,
     "solution": false,
     "task": false
    }
   },
   "source": [
    "## Question 2.6  [marks 4]\n",
    "\n",
    "Create a function `compute_accuracy(M, N, threshold, stds)` that takes as input three scalars, `M`, `N`, and `threshold`, and a 1D array `std`. The function should output an array with the same shape as `stds`. The elements in the input array `stds` represent standard deviations that should be used as input to the function `generate_data`. Thus, for every element `sigma` in `stds`, generate data from `X, y = generate_full_data(M, N, sigma)`. Following this, use the detector developed in the previous subquestion with the input `threshold` as a classifier that attempts to classify each instance `X[i]` in `X`. Finally, compare the output of the classifier with the labels in `y` and compute the associated accuracy. Each element in the output array should store the accuracy of the classifier when using the element at the corresponding location in `stds` as the noise standard deviation `sigma` in the function `generate_data`."
   ]
  },
  {
   "cell_type": "code",
   "execution_count": 36,
   "metadata": {
    "deletable": false,
    "nbgrader": {
     "cell_type": "code",
     "checksum": "9434fb61e736c4450dd7f5f0634d79d9",
     "grade": false,
     "grade_id": "cell-7048093c22ac9c1d",
     "locked": false,
     "schema_version": 3,
     "solution": true,
     "task": false
    }
   },
   "outputs": [],
   "source": [
    "def compute_accuracy(M, N, threshold, stds):\n",
    "    if stds.ndim != 1:\n",
    "        raise AssertionError('Input stds must be 1D')\n",
    "    \n",
    "    if not isinstance(M, int) or not isinstance(N, int) or not isinstance(threshold, int):\n",
    "        raise AssertionError('Input M, N, and threshold must be integers')\n",
    "    \n",
    "    accuracies = np.zeros_like(stds, dtype=float)\n",
    "\n",
    "    for i, sigma in enumerate(stds):\n",
    "        X, y = generate_full_data(M, N, sigma)\n",
    "        predictions = detector(X, threshold)\n",
    "        accuracy = np.mean(predictions == y)\n",
    "        accuracies[i] = accuracy\n",
    "\n",
    "    return accuracies"
   ]
  },
  {
   "cell_type": "code",
   "execution_count": 37,
   "metadata": {
    "deletable": false,
    "editable": false,
    "nbgrader": {
     "cell_type": "code",
     "checksum": "0ab1cb8721d7836a36c5e13b5c94bb22",
     "grade": true,
     "grade_id": "cell-6dd904eb9bcdbdb7",
     "locked": true,
     "points": 4,
     "schema_version": 3,
     "solution": false,
     "task": false
    }
   },
   "outputs": [],
   "source": [
    "## This cell is reserved for the unit tests. Do not consider this cell. "
   ]
  },
  {
   "cell_type": "markdown",
   "metadata": {
    "deletable": false,
    "editable": false,
    "nbgrader": {
     "cell_type": "markdown",
     "checksum": "6ad9bcb53b90f3f14bb620c437100867",
     "grade": false,
     "grade_id": "cell-21e068b63387f8d7",
     "locked": true,
     "schema_version": 3,
     "solution": false,
     "task": false
    }
   },
   "source": [
    "## Question 2.7  [marks 2]\n",
    "\n",
    "Create a function `plot_accuracy(accuracy, stds)` that takes as input the output `accuracy` and the input `stds` from the function created in the previous subquestion. The function should plot the accuracy as dependent on the standard deviations in a suitable manner. Please remember to label the axes."
   ]
  },
  {
   "cell_type": "code",
   "execution_count": 38,
   "metadata": {
    "deletable": false,
    "nbgrader": {
     "cell_type": "code",
     "checksum": "ed4a6a62bb356a31bfd5ada191ee1f3b",
     "grade": false,
     "grade_id": "cell-9e27c89fd8c97ab0",
     "locked": false,
     "schema_version": 3,
     "solution": true,
     "task": false
    }
   },
   "outputs": [],
   "source": [
    "def plot_accuracy(accuracy, stds):\n",
    "    if len(accuracy) != len(stds):\n",
    "        raise AssertionError('Lengths of accuracy and stds must be the same')\n",
    "    \n",
    "    plt.scatter(stds, accuracy)\n",
    "\n",
    "    # Adding labels and title\n",
    "    plt.xlabel('Standard Deviations')\n",
    "    plt.ylabel('Accuracy')\n",
    "    plt.legend()\n",
    "\n",
    "    plt.show()"
   ]
  },
  {
   "cell_type": "code",
   "execution_count": 39,
   "metadata": {
    "deletable": false,
    "editable": false,
    "nbgrader": {
     "cell_type": "code",
     "checksum": "6aebb2ef5ff8844f6012d86cd2438220",
     "grade": true,
     "grade_id": "cell-41e8bf28351ddab1",
     "locked": true,
     "points": 2,
     "schema_version": 3,
     "solution": false,
     "task": false
    }
   },
   "outputs": [],
   "source": [
    "## This cell is reserved for the unit tests. Do not consider this cell. "
   ]
  }
 ],
 "metadata": {
  "kernelspec": {
   "display_name": "Python 3 (ipykernel)",
   "language": "python",
   "name": "python3"
  },
  "language_info": {
   "codemirror_mode": {
    "name": "ipython",
    "version": 3
   },
   "file_extension": ".py",
   "mimetype": "text/x-python",
   "name": "python",
   "nbconvert_exporter": "python",
   "pygments_lexer": "ipython3",
   "version": "3.12.0"
  },
  "varInspector": {
   "cols": {
    "lenName": 16,
    "lenType": 16,
    "lenVar": 40
   },
   "kernels_config": {
    "python": {
     "delete_cmd_postfix": "",
     "delete_cmd_prefix": "del ",
     "library": "var_list.py",
     "varRefreshCmd": "print(var_dic_list())"
    },
    "r": {
     "delete_cmd_postfix": ") ",
     "delete_cmd_prefix": "rm(",
     "library": "var_list.r",
     "varRefreshCmd": "cat(var_dic_list()) "
    }
   },
   "types_to_exclude": [
    "module",
    "function",
    "builtin_function_or_method",
    "instance",
    "_Feature"
   ],
   "window_display": false
  }
 },
 "nbformat": 4,
 "nbformat_minor": 4
}
